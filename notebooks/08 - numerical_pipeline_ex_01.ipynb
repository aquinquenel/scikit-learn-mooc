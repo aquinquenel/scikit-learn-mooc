{
 "cells": [
  {
   "cell_type": "markdown",
   "metadata": {},
   "source": [
    "# 📝 Exercise M1.03\n",
    "\n",
    "The goal of this exercise is to compare the performance of our classifier in\n",
    "the previous notebook (roughly 81% accuracy with `LogisticRegression`) to\n",
    "some simple baseline classifiers. The simplest baseline classifier is one\n",
    "that always predicts the same class, irrespective of the input data.\n",
    "\n",
    "- What would be the score of a model that always predicts `' >50K'`?\n",
    "- What would be the score of a model that always predicts `' <=50K'`?\n",
    "- Is 81% or 82% accuracy a good score for this problem?\n",
    "\n",
    "Use a `DummyClassifier` and do a train-test split to evaluate\n",
    "its accuracy on the test set. This\n",
    "[link](https://scikit-learn.org/stable/modules/model_evaluation.html#dummy-estimators)\n",
    "shows a few examples of how to evaluate the generalization performance of these\n",
    "baseline models."
   ]
  },
  {
   "cell_type": "code",
   "execution_count": 1,
   "id": "d0b9a316",
   "metadata": {},
   "outputs": [],
   "source": [
    "import pandas as pd\n",
    "\n",
    "adult_census = pd.read_csv('../datasets/adult-census.csv')"
   ]
  },
  {
   "cell_type": "markdown",
   "metadata": {},
   "source": [
    "We will first split our dataset to have the target separated from the data\n",
    "used to train our predictive model."
   ]
  },
  {
   "cell_type": "code",
   "execution_count": 2,
   "id": "5e015358",
   "metadata": {},
   "outputs": [],
   "source": [
    "target_name = \"class\"\n",
    "target = adult_census[target_name]\n",
    "data = adult_census.drop(columns=[target_name, ])"
   ]
  },
  {
   "cell_type": "markdown",
   "metadata": {},
   "source": [
    "We start by selecting only the numerical columns as seen in the previous\n",
    "notebook."
   ]
  },
  {
   "cell_type": "code",
   "execution_count": 3,
   "id": "8fc93272",
   "metadata": {},
   "outputs": [],
   "source": [
    "numerical_columns = [\n",
    "    \"age\", \"capital-gain\", \"capital-loss\", \"hours-per-week\"]\n",
    "\n",
    "data_numeric = data[numerical_columns]"
   ]
  },
  {
   "cell_type": "markdown",
   "metadata": {},
   "source": [
    "Split the data and target into a train and test set."
   ]
  },
  {
   "cell_type": "code",
   "execution_count": 4,
   "id": "2b06bfd3",
   "metadata": {},
   "outputs": [],
   "source": [
    "from sklearn.model_selection import train_test_split\n",
    "\n",
    "data_numeric_train, data_numeric_test, target_train, target_test = train_test_split(\n",
    "    data_numeric, target, random_state=42\n",
    ")"
   ]
  },
  {
   "cell_type": "markdown",
   "metadata": {},
   "source": [
    "Use a `DummyClassifier` such that the resulting classifier will always\n",
    "predict the class `' >50K'`. What is the accuracy score on the test set?\n",
    "Repeat the experiment by always predicting the class `' <=50K'`.\n",
    "\n",
    "Hint: you can set the `strategy` parameter of the `DummyClassifier` to\n",
    "achieve the desired behavior."
   ]
  },
  {
   "cell_type": "code",
   "execution_count": 5,
   "id": "d99b470e",
   "metadata": {},
   "outputs": [
    {
     "name": "stdout",
     "output_type": "stream",
     "text": [
      "Accuracy of a model predicting only high revenue: 0.234\n"
     ]
    }
   ],
   "source": [
    "from sklearn.dummy import DummyClassifier\n",
    "\n",
    "class_to_predict = ' >50K'\n",
    "high_revenue_clf = DummyClassifier(\n",
    "    strategy='constant',\n",
    "    constant=class_to_predict\n",
    ")\n",
    "high_revenue_clf.fit(data_numeric_train, target_train)\n",
    "score = high_revenue_clf.score(data_numeric_test, target_test)\n",
    "print(f\"Accuracy of a model predicting only high revenue: {score:.3f}\")"
   ]
  },
  {
   "cell_type": "code",
   "execution_count": 6,
   "metadata": {},
   "outputs": [
    {
     "name": "stdout",
     "output_type": "stream",
     "text": [
      "Accuracy of a model predicting only high revenue: 0.766\n"
     ]
    }
   ],
   "source": [
    "from sklearn.dummy import DummyClassifier\n",
    "\n",
    "class_to_predict = ' <=50K'\n",
    "low_revenue_clf = DummyClassifier(\n",
    "    strategy='constant',\n",
    "    constant=class_to_predict\n",
    ")\n",
    "low_revenue_clf.fit(data_numeric_train, target_train)\n",
    "score = low_revenue_clf.score(data_numeric_test, target_test)\n",
    "print(f\"Accuracy of a model predicting only high revenue: {score:.3f}\")"
   ]
  },
  {
   "cell_type": "code",
   "execution_count": 7,
   "id": "71035636",
   "metadata": {},
   "outputs": [
    {
     "data": {
      "text/plain": [
       " <=50K    37155\n",
       " >50K     11687\n",
       "Name: class, dtype: int64"
      ]
     },
     "execution_count": 7,
     "metadata": {},
     "output_type": "execute_result"
    }
   ],
   "source": [
    "adult_census[\"class\"].value_counts()"
   ]
  },
  {
   "cell_type": "code",
   "execution_count": 8,
   "id": "dab2e8fc",
   "metadata": {},
   "outputs": [
    {
     "data": {
      "text/plain": [
       "0.7607182343065395"
      ]
     },
     "execution_count": 8,
     "metadata": {},
     "output_type": "execute_result"
    }
   ],
   "source": [
    "(target == \" <=50K\").mean()"
   ]
  },
  {
   "cell_type": "code",
   "execution_count": 9,
   "id": "a4952a52",
   "metadata": {},
   "outputs": [
    {
     "name": "stdout",
     "output_type": "stream",
     "text": [
      "Accuracy of a model predictiing the most frequent class: 0.766\n"
     ]
    }
   ],
   "source": [
    "most_frequent_clf = DummyClassifier(strategy='most_frequent')\n",
    "most_frequent_clf.fit(data_numeric_train, target_train)\n",
    "score = most_frequent_clf.score(data_numeric_test, target_test)\n",
    "print(f\"Accuracy of a model predictiing the most frequent class: {score:.3f}\")"
   ]
  }
 ],
 "metadata": {
  "jupytext": {
   "main_language": "python"
  },
  "kernelspec": {
   "display_name": "Python 3",
   "name": "python3"
  },
  "language_info": {
   "codemirror_mode": {
    "name": "ipython",
    "version": 3
   },
   "file_extension": ".py",
   "mimetype": "text/x-python",
   "name": "python",
   "nbconvert_exporter": "python",
   "pygments_lexer": "ipython3",
   "version": "3.10.2"
  }
 },
 "nbformat": 4,
 "nbformat_minor": 5
}
